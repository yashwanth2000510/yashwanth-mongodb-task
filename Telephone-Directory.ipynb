{
 "cells": [
  {
   "cell_type": "markdown",
   "id": "a05bd915",
   "metadata": {},
   "source": [
    "# Telephone Directory"
   ]
  },
  {
   "cell_type": "code",
   "execution_count": 54,
   "id": "cb89fd50",
   "metadata": {},
   "outputs": [],
   "source": [
    "import pymongo as pym"
   ]
  },
  {
   "cell_type": "code",
   "execution_count": 55,
   "id": "de19dc5a",
   "metadata": {},
   "outputs": [],
   "source": [
    "client = pym.MongoClient('mongodb://127.0.0.1:27017/')"
   ]
  },
  {
   "cell_type": "code",
   "execution_count": 56,
   "id": "5ea2a4f7",
   "metadata": {},
   "outputs": [],
   "source": [
    "db = client['task2']"
   ]
  },
  {
   "cell_type": "markdown",
   "id": "2fbbdec2",
   "metadata": {},
   "source": [
    "## inserting the data"
   ]
  },
  {
   "cell_type": "code",
   "execution_count": 57,
   "id": "22dfd07c",
   "metadata": {},
   "outputs": [],
   "source": [
    "information = db.telephonedirectory"
   ]
  },
  {
   "cell_type": "code",
   "execution_count": 58,
   "id": "e07bbe0b",
   "metadata": {},
   "outputs": [],
   "source": [
    "records =[{\n",
    "    \"name\" : \"yashwanth\",\n",
    "    \"place\" : \"mysore\",\n",
    "    \"phone-no\" : 8595879424,\n",
    "    \"age\" : 22\n",
    "},{\n",
    "    \"name\" : \"rahul\",\n",
    "    \"place\" : \"chennai\",\n",
    "    \"phone-no\" : 8660995411,\n",
    "    \"age\" : 23\n",
    "},{\n",
    "    \"name\" : \"ravi\",\n",
    "    \"place\" : \"mumbai\",\n",
    "    \"phone-no\" : 9986357294,\n",
    "    \"age\" : 24\n",
    "},{\n",
    "    \"name\" : \"kundan\",\n",
    "    \"place\" : \"kolkota\",\n",
    "    \"phone-no\" : 7353157794,\n",
    "    \"age\" : 18\n",
    "},{\n",
    "    \"name\" : \"yash\",\n",
    "    \"place\" : \"mysore\",\n",
    "    \"phone-no\" : 7595779424,\n",
    "    \"age\" : 23\n",
    "},{\n",
    "    \"name\" : \"delvin\",\n",
    "    \"place\" : \"mysore\",\n",
    "    \"phone-no\" : 7483120012,\n",
    "    \"age\" : 24\n",
    "},{\n",
    "    \"name\" : \"kashap\",\n",
    "    \"place\" : \"pune\",\n",
    "    \"phone-no\" : 9141253645,\n",
    "    \"age\" : 25\n",
    "},{\n",
    "    \"name\" : \"yashwanth\",\n",
    "    \"place\" : \"chennai\",\n",
    "    \"phone-no\" : 8550066819,\n",
    "    \"age\" : 23\n",
    "},{\n",
    "    \"name\" : \"yashwanth\",\n",
    "    \"place\" : \"mumbai\",\n",
    "    \"phone-no\" : 8955879424,\n",
    "    \"age\" : 27\n",
    "}]"
   ]
  },
  {
   "cell_type": "code",
   "execution_count": 59,
   "id": "5fc3c608",
   "metadata": {},
   "outputs": [
    {
     "data": {
      "text/plain": [
       "<pymongo.results.InsertManyResult at 0x2f60a2a2620>"
      ]
     },
     "execution_count": 59,
     "metadata": {},
     "output_type": "execute_result"
    }
   ],
   "source": [
    "information.insert_many(records)"
   ]
  },
  {
   "cell_type": "markdown",
   "id": "535453ca",
   "metadata": {},
   "source": [
    "## retriving the data from the database"
   ]
  },
  {
   "cell_type": "code",
   "execution_count": 60,
   "id": "29512334",
   "metadata": {},
   "outputs": [
    {
     "name": "stdout",
     "output_type": "stream",
     "text": [
      "{'_id': ObjectId('63522d4b8c390514e250827a'), 'name': 'yashwanth', 'place': 'mysore', 'phone-no': 8595879424, 'age': 22}\n",
      "{'_id': ObjectId('63522d4b8c390514e250827b'), 'name': 'rahul', 'place': 'chennai', 'phone-no': 8660995411, 'age': 23}\n",
      "{'_id': ObjectId('63522d4b8c390514e250827c'), 'name': 'ravi', 'place': 'mumbai', 'phone-no': 9986357294, 'age': 24}\n",
      "{'_id': ObjectId('63522d4b8c390514e250827d'), 'name': 'kundan', 'place': 'kolkota', 'phone-no': 7353157794, 'age': 18}\n",
      "{'_id': ObjectId('63522d4b8c390514e250827e'), 'name': 'yash', 'place': 'mysore', 'phone-no': 7595779424, 'age': 23}\n",
      "{'_id': ObjectId('63522d4b8c390514e250827f'), 'name': 'delvin', 'place': 'mysore', 'phone-no': 7483120012, 'age': 24}\n",
      "{'_id': ObjectId('63522d4b8c390514e2508280'), 'name': 'kashap', 'place': 'pune', 'phone-no': 9141253645, 'age': 25}\n",
      "{'_id': ObjectId('63522d4b8c390514e2508281'), 'name': 'yashwanth', 'place': 'chennai', 'phone-no': 8550066819, 'age': 23}\n",
      "{'_id': ObjectId('63522d4b8c390514e2508282'), 'name': 'yashwanth', 'place': 'mumbai', 'phone-no': 8955879424, 'age': 27}\n"
     ]
    }
   ],
   "source": [
    "for i in information.find():\n",
    "    print(i)"
   ]
  },
  {
   "cell_type": "code",
   "execution_count": 61,
   "id": "2459c6a0",
   "metadata": {},
   "outputs": [
    {
     "data": {
      "text/plain": [
       "{'_id': ObjectId('63522d4b8c390514e250827a'),\n",
       " 'name': 'yashwanth',\n",
       " 'place': 'mysore',\n",
       " 'phone-no': 8595879424,\n",
       " 'age': 22}"
      ]
     },
     "execution_count": 61,
     "metadata": {},
     "output_type": "execute_result"
    }
   ],
   "source": [
    "information.find_one()"
   ]
  },
  {
   "cell_type": "code",
   "execution_count": 62,
   "id": "ac22807f",
   "metadata": {},
   "outputs": [
    {
     "data": {
      "text/plain": [
       "{'_id': ObjectId('63522d4b8c390514e250827a'),\n",
       " 'name': 'yashwanth',\n",
       " 'place': 'mysore',\n",
       " 'phone-no': 8595879424,\n",
       " 'age': 22}"
      ]
     },
     "execution_count": 62,
     "metadata": {},
     "output_type": "execute_result"
    }
   ],
   "source": [
    "information.find_one({\"place\":\"mysore\"})"
   ]
  },
  {
   "cell_type": "code",
   "execution_count": 63,
   "id": "74071a32",
   "metadata": {},
   "outputs": [
    {
     "name": "stdout",
     "output_type": "stream",
     "text": [
      "{'_id': ObjectId('63522d4b8c390514e250827a'), 'name': 'yashwanth', 'place': 'mysore', 'phone-no': 8595879424, 'age': 22}\n",
      "{'_id': ObjectId('63522d4b8c390514e250827e'), 'name': 'yash', 'place': 'mysore', 'phone-no': 7595779424, 'age': 23}\n",
      "{'_id': ObjectId('63522d4b8c390514e250827f'), 'name': 'delvin', 'place': 'mysore', 'phone-no': 7483120012, 'age': 24}\n"
     ]
    }
   ],
   "source": [
    "for i in information.find({\"place\":\"mysore\"}):\n",
    "    print(i)"
   ]
  },
  {
   "cell_type": "code",
   "execution_count": 64,
   "id": "b1ee9613",
   "metadata": {},
   "outputs": [
    {
     "name": "stdout",
     "output_type": "stream",
     "text": [
      "{'_id': ObjectId('63522d4b8c390514e250827c'), 'name': 'ravi', 'place': 'mumbai', 'phone-no': 9986357294, 'age': 24}\n",
      "{'_id': ObjectId('63522d4b8c390514e250827f'), 'name': 'delvin', 'place': 'mysore', 'phone-no': 7483120012, 'age': 24}\n",
      "{'_id': ObjectId('63522d4b8c390514e2508280'), 'name': 'kashap', 'place': 'pune', 'phone-no': 9141253645, 'age': 25}\n",
      "{'_id': ObjectId('63522d4b8c390514e2508282'), 'name': 'yashwanth', 'place': 'mumbai', 'phone-no': 8955879424, 'age': 27}\n"
     ]
    }
   ],
   "source": [
    "for i in information.find({\"age\":{\"$gt\":23}}):\n",
    "    print(i)"
   ]
  },
  {
   "cell_type": "code",
   "execution_count": 65,
   "id": "0ffaca6f",
   "metadata": {},
   "outputs": [
    {
     "name": "stdout",
     "output_type": "stream",
     "text": [
      "{'_id': ObjectId('63522d4b8c390514e2508280'), 'name': 'kashap', 'place': 'pune', 'phone-no': 9141253645, 'age': 25}\n",
      "{'_id': ObjectId('63522d4b8c390514e2508282'), 'name': 'yashwanth', 'place': 'mumbai', 'phone-no': 8955879424, 'age': 27}\n"
     ]
    }
   ],
   "source": [
    "for i in information.find({\"age\":{\"$gte\":25}}):\n",
    "    print(i)        \n"
   ]
  },
  {
   "cell_type": "markdown",
   "id": "958ef173",
   "metadata": {},
   "source": [
    "## updating the data"
   ]
  },
  {
   "cell_type": "code",
   "execution_count": 66,
   "id": "90a34e0d",
   "metadata": {},
   "outputs": [
    {
     "data": {
      "text/plain": [
       "<pymongo.results.UpdateResult at 0x2f60a337280>"
      ]
     },
     "execution_count": 66,
     "metadata": {},
     "output_type": "execute_result"
    }
   ],
   "source": [
    "#update one\n",
    "information.update_one({\"phone-no\":8595879424},{\"$set\":{\"age\":23,\"place\":\"delhi\"}})"
   ]
  },
  {
   "cell_type": "code",
   "execution_count": 67,
   "id": "2c1a6e16",
   "metadata": {},
   "outputs": [
    {
     "name": "stdout",
     "output_type": "stream",
     "text": [
      "{'_id': ObjectId('63522d4b8c390514e250827a'), 'name': 'yashwanth', 'place': 'delhi', 'phone-no': 8595879424, 'age': 23}\n"
     ]
    }
   ],
   "source": [
    "for i in information.find({\"phone-no\":8595879424}):\n",
    "    print(i)"
   ]
  },
  {
   "cell_type": "code",
   "execution_count": null,
   "id": "96b9ba61",
   "metadata": {},
   "outputs": [],
   "source": []
  },
  {
   "cell_type": "code",
   "execution_count": 68,
   "id": "cf3025a1",
   "metadata": {},
   "outputs": [
    {
     "data": {
      "text/plain": [
       "<pymongo.results.UpdateResult at 0x2f60a3371f0>"
      ]
     },
     "execution_count": 68,
     "metadata": {},
     "output_type": "execute_result"
    }
   ],
   "source": [
    "#update many\n",
    "information.update_many({\"place\":\"mysore\"},{\"$set\":{\"place\":\"USA\"}})"
   ]
  },
  {
   "cell_type": "code",
   "execution_count": 69,
   "id": "08fd02f6",
   "metadata": {},
   "outputs": [
    {
     "name": "stdout",
     "output_type": "stream",
     "text": [
      "{'_id': ObjectId('63522d4b8c390514e250827e'), 'name': 'yash', 'place': 'USA', 'phone-no': 7595779424, 'age': 23}\n",
      "{'_id': ObjectId('63522d4b8c390514e250827f'), 'name': 'delvin', 'place': 'USA', 'phone-no': 7483120012, 'age': 24}\n"
     ]
    }
   ],
   "source": [
    "# the place as been updated from \"mysore\" to \"USA\"\n",
    "for i in information.find({\"place\":\"USA\"}):\n",
    "    print(i)"
   ]
  },
  {
   "cell_type": "code",
   "execution_count": null,
   "id": "7357e4ed",
   "metadata": {},
   "outputs": [],
   "source": []
  },
  {
   "cell_type": "markdown",
   "id": "ad4fc3da",
   "metadata": {},
   "source": [
    "## deletin the data in the database"
   ]
  },
  {
   "cell_type": "code",
   "execution_count": 70,
   "id": "12dd383d",
   "metadata": {},
   "outputs": [
    {
     "name": "stdout",
     "output_type": "stream",
     "text": [
      "{'_id': ObjectId('63522d4b8c390514e250827a'), 'name': 'yashwanth', 'place': 'delhi', 'phone-no': 8595879424, 'age': 23}\n",
      "{'_id': ObjectId('63522d4b8c390514e250827b'), 'name': 'rahul', 'place': 'chennai', 'phone-no': 8660995411, 'age': 23}\n",
      "{'_id': ObjectId('63522d4b8c390514e250827c'), 'name': 'ravi', 'place': 'mumbai', 'phone-no': 9986357294, 'age': 24}\n",
      "{'_id': ObjectId('63522d4b8c390514e250827d'), 'name': 'kundan', 'place': 'kolkota', 'phone-no': 7353157794, 'age': 18}\n",
      "{'_id': ObjectId('63522d4b8c390514e250827e'), 'name': 'yash', 'place': 'USA', 'phone-no': 7595779424, 'age': 23}\n",
      "{'_id': ObjectId('63522d4b8c390514e250827f'), 'name': 'delvin', 'place': 'USA', 'phone-no': 7483120012, 'age': 24}\n",
      "{'_id': ObjectId('63522d4b8c390514e2508280'), 'name': 'kashap', 'place': 'pune', 'phone-no': 9141253645, 'age': 25}\n",
      "{'_id': ObjectId('63522d4b8c390514e2508281'), 'name': 'yashwanth', 'place': 'chennai', 'phone-no': 8550066819, 'age': 23}\n",
      "{'_id': ObjectId('63522d4b8c390514e2508282'), 'name': 'yashwanth', 'place': 'mumbai', 'phone-no': 8955879424, 'age': 27}\n"
     ]
    }
   ],
   "source": [
    "for i in information.find():\n",
    "    print(i)"
   ]
  },
  {
   "cell_type": "code",
   "execution_count": 71,
   "id": "62ca759c",
   "metadata": {},
   "outputs": [
    {
     "data": {
      "text/plain": [
       "<pymongo.results.DeleteResult at 0x2f60b410bb0>"
      ]
     },
     "execution_count": 71,
     "metadata": {},
     "output_type": "execute_result"
    }
   ],
   "source": [
    "#delete one column form the collection where i am deleting the column where the is kundan\n",
    "information.delete_one({\"name\":\"kundan\"})"
   ]
  },
  {
   "cell_type": "code",
   "execution_count": 72,
   "id": "9fe866e1",
   "metadata": {},
   "outputs": [
    {
     "name": "stdout",
     "output_type": "stream",
     "text": [
      "{'_id': ObjectId('63522d4b8c390514e250827a'), 'name': 'yashwanth', 'place': 'delhi', 'phone-no': 8595879424, 'age': 23}\n",
      "{'_id': ObjectId('63522d4b8c390514e250827b'), 'name': 'rahul', 'place': 'chennai', 'phone-no': 8660995411, 'age': 23}\n",
      "{'_id': ObjectId('63522d4b8c390514e250827c'), 'name': 'ravi', 'place': 'mumbai', 'phone-no': 9986357294, 'age': 24}\n",
      "{'_id': ObjectId('63522d4b8c390514e250827e'), 'name': 'yash', 'place': 'USA', 'phone-no': 7595779424, 'age': 23}\n",
      "{'_id': ObjectId('63522d4b8c390514e250827f'), 'name': 'delvin', 'place': 'USA', 'phone-no': 7483120012, 'age': 24}\n",
      "{'_id': ObjectId('63522d4b8c390514e2508280'), 'name': 'kashap', 'place': 'pune', 'phone-no': 9141253645, 'age': 25}\n",
      "{'_id': ObjectId('63522d4b8c390514e2508281'), 'name': 'yashwanth', 'place': 'chennai', 'phone-no': 8550066819, 'age': 23}\n",
      "{'_id': ObjectId('63522d4b8c390514e2508282'), 'name': 'yashwanth', 'place': 'mumbai', 'phone-no': 8955879424, 'age': 27}\n"
     ]
    }
   ],
   "source": [
    "\n",
    "for i in information.find():\n",
    "    print(i)"
   ]
  },
  {
   "cell_type": "code",
   "execution_count": null,
   "id": "31741ff7",
   "metadata": {},
   "outputs": [],
   "source": []
  },
  {
   "cell_type": "markdown",
   "id": "d93dc0db",
   "metadata": {},
   "source": [
    "#### where in a telephone directory there can be more than 2 people who has the same name  so what we do is delete it by using the only column which is unique and in this case it is the phone number"
   ]
  },
  {
   "cell_type": "code",
   "execution_count": 73,
   "id": "2c7cb4f6",
   "metadata": {},
   "outputs": [
    {
     "name": "stdout",
     "output_type": "stream",
     "text": [
      "{'_id': ObjectId('63522d4b8c390514e250827a'), 'name': 'yashwanth', 'place': 'delhi', 'phone-no': 8595879424, 'age': 23}\n",
      "{'_id': ObjectId('63522d4b8c390514e250827b'), 'name': 'rahul', 'place': 'chennai', 'phone-no': 8660995411, 'age': 23}\n",
      "{'_id': ObjectId('63522d4b8c390514e250827c'), 'name': 'ravi', 'place': 'mumbai', 'phone-no': 9986357294, 'age': 24}\n",
      "{'_id': ObjectId('63522d4b8c390514e250827e'), 'name': 'yash', 'place': 'USA', 'phone-no': 7595779424, 'age': 23}\n",
      "{'_id': ObjectId('63522d4b8c390514e250827f'), 'name': 'delvin', 'place': 'USA', 'phone-no': 7483120012, 'age': 24}\n",
      "{'_id': ObjectId('63522d4b8c390514e2508280'), 'name': 'kashap', 'place': 'pune', 'phone-no': 9141253645, 'age': 25}\n",
      "{'_id': ObjectId('63522d4b8c390514e2508281'), 'name': 'yashwanth', 'place': 'chennai', 'phone-no': 8550066819, 'age': 23}\n",
      "{'_id': ObjectId('63522d4b8c390514e2508282'), 'name': 'yashwanth', 'place': 'mumbai', 'phone-no': 8955879424, 'age': 27}\n"
     ]
    }
   ],
   "source": [
    "for i in information.find():\n",
    "    print(i)"
   ]
  },
  {
   "cell_type": "code",
   "execution_count": 74,
   "id": "64f6c7d2",
   "metadata": {},
   "outputs": [
    {
     "data": {
      "text/plain": [
       "<pymongo.results.DeleteResult at 0x2f60b410d30>"
      ]
     },
     "execution_count": 74,
     "metadata": {},
     "output_type": "execute_result"
    }
   ],
   "source": [
    "information.delete_one({\"phone-no\":9141253645})"
   ]
  },
  {
   "cell_type": "code",
   "execution_count": 75,
   "id": "ea0db380",
   "metadata": {},
   "outputs": [
    {
     "name": "stdout",
     "output_type": "stream",
     "text": [
      "{'_id': ObjectId('63522d4b8c390514e250827a'), 'name': 'yashwanth', 'place': 'delhi', 'phone-no': 8595879424, 'age': 23}\n",
      "{'_id': ObjectId('63522d4b8c390514e250827b'), 'name': 'rahul', 'place': 'chennai', 'phone-no': 8660995411, 'age': 23}\n",
      "{'_id': ObjectId('63522d4b8c390514e250827c'), 'name': 'ravi', 'place': 'mumbai', 'phone-no': 9986357294, 'age': 24}\n",
      "{'_id': ObjectId('63522d4b8c390514e250827e'), 'name': 'yash', 'place': 'USA', 'phone-no': 7595779424, 'age': 23}\n",
      "{'_id': ObjectId('63522d4b8c390514e250827f'), 'name': 'delvin', 'place': 'USA', 'phone-no': 7483120012, 'age': 24}\n",
      "{'_id': ObjectId('63522d4b8c390514e2508281'), 'name': 'yashwanth', 'place': 'chennai', 'phone-no': 8550066819, 'age': 23}\n",
      "{'_id': ObjectId('63522d4b8c390514e2508282'), 'name': 'yashwanth', 'place': 'mumbai', 'phone-no': 8955879424, 'age': 27}\n"
     ]
    }
   ],
   "source": [
    "# as you can see the name kashap as been deleted form the database\n",
    "for i in information.find():\n",
    "    print(i)"
   ]
  },
  {
   "cell_type": "code",
   "execution_count": null,
   "id": "5649d167",
   "metadata": {},
   "outputs": [],
   "source": []
  },
  {
   "cell_type": "code",
   "execution_count": 76,
   "id": "86511c67",
   "metadata": {},
   "outputs": [
    {
     "data": {
      "text/plain": [
       "<pymongo.results.DeleteResult at 0x2f60a2a25c0>"
      ]
     },
     "execution_count": 76,
     "metadata": {},
     "output_type": "execute_result"
    }
   ],
   "source": [
    "# delete many\n",
    "information.delete_many({\"place\":\"USA\"})"
   ]
  },
  {
   "cell_type": "code",
   "execution_count": 77,
   "id": "03cc1d5e",
   "metadata": {},
   "outputs": [
    {
     "name": "stdout",
     "output_type": "stream",
     "text": [
      "{'_id': ObjectId('63522d4b8c390514e250827a'), 'name': 'yashwanth', 'place': 'delhi', 'phone-no': 8595879424, 'age': 23}\n",
      "{'_id': ObjectId('63522d4b8c390514e250827b'), 'name': 'rahul', 'place': 'chennai', 'phone-no': 8660995411, 'age': 23}\n",
      "{'_id': ObjectId('63522d4b8c390514e250827c'), 'name': 'ravi', 'place': 'mumbai', 'phone-no': 9986357294, 'age': 24}\n",
      "{'_id': ObjectId('63522d4b8c390514e2508281'), 'name': 'yashwanth', 'place': 'chennai', 'phone-no': 8550066819, 'age': 23}\n",
      "{'_id': ObjectId('63522d4b8c390514e2508282'), 'name': 'yashwanth', 'place': 'mumbai', 'phone-no': 8955879424, 'age': 27}\n"
     ]
    }
   ],
   "source": [
    "# as you see the place USA as been deleted from the database\n",
    "for i in information.find():\n",
    "    print(i)"
   ]
  },
  {
   "cell_type": "code",
   "execution_count": 80,
   "id": "286b75d8",
   "metadata": {},
   "outputs": [
    {
     "data": {
      "text/plain": [
       "<pymongo.results.DeleteResult at 0x2f60b4106a0>"
      ]
     },
     "execution_count": 80,
     "metadata": {},
     "output_type": "execute_result"
    }
   ],
   "source": [
    "#deleting all the data\n",
    "information.delete_many({})"
   ]
  },
  {
   "cell_type": "code",
   "execution_count": 83,
   "id": "40c0984e",
   "metadata": {},
   "outputs": [],
   "source": [
    "# as we can see all the data has been deleted\n",
    "for i in information.find():\n",
    "    print(i)\n",
    "    "
   ]
  },
  {
   "cell_type": "code",
   "execution_count": null,
   "id": "c412cddf",
   "metadata": {},
   "outputs": [],
   "source": []
  },
  {
   "cell_type": "code",
   "execution_count": null,
   "id": "b632a582",
   "metadata": {},
   "outputs": [],
   "source": []
  },
  {
   "cell_type": "code",
   "execution_count": null,
   "id": "120a21ea",
   "metadata": {},
   "outputs": [],
   "source": []
  },
  {
   "cell_type": "code",
   "execution_count": null,
   "id": "a03eabff",
   "metadata": {},
   "outputs": [],
   "source": []
  },
  {
   "cell_type": "code",
   "execution_count": null,
   "id": "b49618e2",
   "metadata": {},
   "outputs": [],
   "source": []
  },
  {
   "cell_type": "code",
   "execution_count": null,
   "id": "76810cdb",
   "metadata": {},
   "outputs": [],
   "source": []
  }
 ],
 "metadata": {
  "kernelspec": {
   "display_name": "Python 3 (ipykernel)",
   "language": "python",
   "name": "python3"
  },
  "language_info": {
   "codemirror_mode": {
    "name": "ipython",
    "version": 3
   },
   "file_extension": ".py",
   "mimetype": "text/x-python",
   "name": "python",
   "nbconvert_exporter": "python",
   "pygments_lexer": "ipython3",
   "version": "3.10.7"
  }
 },
 "nbformat": 4,
 "nbformat_minor": 5
}
